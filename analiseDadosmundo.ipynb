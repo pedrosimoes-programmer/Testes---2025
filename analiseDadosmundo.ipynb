{
 "cells": [
  {
   "cell_type": "code",
   "execution_count": 24,
   "id": "bd1cdd64",
   "metadata": {},
   "outputs": [
    {
     "data": {
      "application/vnd.plotly.v1+json": {
       "config": {
        "plotlyServerURL": "https://plot.ly"
       },
       "data": [
        {
         "alignmentgroup": "True",
         "boxpoints": "all",
         "fillcolor": "rgba(255,255,255,0)",
         "hoveron": "points",
         "hovertemplate": "<b>%{hovertext}</b><br><br>Continente=Europa<br>PIB=%{x}<br>População=%{y}<extra></extra>",
         "hovertext": [
          "Albania",
          "Austria",
          "Belarus",
          "Belgium",
          "Bosnia and Herzegovina",
          "Bulgaria",
          "Croatia",
          "Cyprus",
          "Czechia",
          "Denmark",
          "Estonia",
          "Finland",
          "France",
          "Germany",
          "Greece",
          "Hungary",
          "Iceland",
          "Ireland",
          "Italy",
          "Latvia",
          "Lithuania",
          "Luxembourg",
          "Malta",
          "Montenegro",
          "Netherlands",
          "North Macedonia",
          "Norway",
          "Poland",
          "Portugal",
          "Romania",
          "Russia",
          "Serbia",
          "Slovakia",
          "Slovenia",
          "Spain",
          "Sweden",
          "Switzerland",
          "Turkey",
          "Ukraine",
          "United Kingdom"
         ],
         "legendgroup": "Europa",
         "line": {
          "color": "rgba(255,255,255,0)"
         },
         "marker": {
          "color": "#636efa"
         },
         "name": "Europa",
         "offsetgroup": "Europa",
         "orientation": "v",
         "pointpos": 0,
         "showlegend": true,
         "type": "box",
         "x": {
          "bdata": "AAAAWNHPIEIAAFjdXc5bQgAA+IVg10dCAABgviceXkIAAPCAmjQlQgAAUONuZUFCAABAfBABOUIAAKBhliAaQgAAnCNxWFdCAADgkL8mUkIAAGCEreUkQgAAkMJp70xCAADQRCNxhUIAAOCfYxuPQgAAQNY+lVBCAADI/TB7UEIAAKD5Ab0QQgAAQMxHKl1CAADcpOTxgUIAAODfMB0qQgAAoB0X3zRCAAAggj7xKUIAAACTj+oPQgAAwMPnjglCAAAG4aGma0IAACBhSZ4eQgAAOKukEFdCAACsmHqicUIAAJAdQ+1SQgAA+AFPb19CAADIHNRGjkIAAPCWPQs8QgAA+LwBdEFCAABAzBeAMEIAAEBjHXR7QgAAQFeZoV5CAADwNu3TYkIAAPqZpVuAQgAANJiZ1GBCAAAHRh3BhUI=",
          "dtype": "f8"
         },
         "x0": " ",
         "xaxis": "x",
         "y": {
          "bdata": "AAAAAMoCRkEAAABgXfBgQQAAAMAi/2FBAAAAwKfqZUEAAAAAP4ZJQQAAAMD6m1pBAAAAANFpTkEAAAAADaIzQQAAAOC+IWRBAAAAwFYuVkEAAAAA5T40QQAAAMBWEFVBAAAAoJ1Xj0EAAABEDOyTQQAAAICucWRBAAAAQK2iYkEAAAAAFAQWQQAAAMDc0VJBAAAAwBqsjEEAAAAAmzU9QQAAAIAYU0VBAAAAAAztIkEAAAAARMMeQQAAAACyqiJBAAAAIJ65cEEAAAAAq/Q8QQAAAMBlZlRBAAAA4D46gkEAAABAZrpjQQAAAHAemXJBAAAAjtV3oUEAAACA4pJaQQAAAIDgylRBAAAAAGzKP0EAAACAa56GQQAAAEAam2NBAAAAwD5cYEEAAACc0VmUQQAAAFD4b4VBAAAAuCAAkEE=",
          "dtype": "f8"
         },
         "y0": " ",
         "yaxis": "y"
        },
        {
         "alignmentgroup": "True",
         "boxpoints": "all",
         "fillcolor": "rgba(255,255,255,0)",
         "hoveron": "points",
         "hovertemplate": "<b>%{hovertext}</b><br><br>Continente=África<br>PIB=%{x}<br>População=%{y}<extra></extra>",
         "hovertext": [
          "Algeria",
          "Benin",
          "Botswana",
          "Burkina Faso",
          "Burundi",
          "Cameroon",
          "Central African Republic",
          "Chad",
          "Cote d'Ivoire",
          "Democratic Republic of Congo",
          "Egypt",
          "Ethiopia",
          "Gabon",
          "Gambia",
          "Ghana",
          "Guinea",
          "Kenya",
          "Lesotho",
          "Liberia",
          "Malawi",
          "Mali",
          "Mauritania",
          "Mauritius",
          "Morocco",
          "Mozambique",
          "Namibia",
          "Nigeria",
          "Rwanda",
          "Senegal",
          "Sierra Leone",
          "South Africa",
          "Tanzania",
          "Togo",
          "Tunisia",
          "Uganda",
          "Zambia",
          "Zimbabwe"
         ],
         "legendgroup": "África",
         "line": {
          "color": "rgba(255,255,255,0)"
         },
         "marker": {
          "color": "#EF553B"
         },
         "name": "África",
         "offsetgroup": "África",
         "orientation": "v",
         "pointpos": 0,
         "showlegend": true,
         "type": "box",
         "x": {
          "bdata": "AACMXieKXUIAALDCLdUhQgAAMD75riFCAABQAQgQJEIAAAB21vcAQgAAEErl/zVCAACAZmJL8UEAAGAgmPwXQgAAkJpPJj5CAACgZlilNEIAADqZGJ5xQgAAYBrrv1FCAAAgerZYH0IAAIDEThH1QQAA4APt/UJCAAAAORkzG0IAALCWH+5JQgAAgLr/VfVBAABA/mIk90EAAECiMyYUQgAAIOJ9ZCZCAABgfKW1E0IAAADy5bYbQgAAmIRu0lBCAABAoGdgIUIAAABFs7oVQgAATOAIJm1CAADgRHTOGkIAAGBofqUoQgAAAONDSgtCAAC4321dZUIAAKBkn/Y+QgAAAEBA0xBCAABAdqgyPkIAAECuf5A1QgAAQH0lcSpCAAAgCugCI0I=",
          "dtype": "f8"
         },
         "x0": " ",
         "xaxis": "x",
         "y": {
          "bdata": "AAAAsPqkhEEAAAAgPUZoQQAAAIDYykFBAAAAIKr9c0EAAABgDWBnQQAAAAATU3hBAAAAwNDcUkEAAADgFNNvQQAAAGAP43pBAAAA6A8plkEAAAAchqSZQQAAAKQMmJtBAAAAAB9NQUEAAACAh75CQQAAAOCTz31BAAAAoG3caEEAAABoWGqIQQAAAABD20BBAAAAAII9U0EAAABA9SRyQQAAAGCnF3RBAAAAgAALUUEAAAAAfaAzQQAAANhGRIFBAAAAgP1/fEEAAAAAwjhEQQAAAIj++KhBAAAAAFVeaEEAAADA0zBvQQAAAMDGfl1BAAAAQOlpjEEAAABIfzeMQQAAAIBbJGBBAAAAoGGmZkEAAACg+oCEQQAAABD7p3FBAAAAILogbUE=",
          "dtype": "f8"
         },
         "y0": " ",
         "yaxis": "y"
        },
        {
         "alignmentgroup": "True",
         "boxpoints": "all",
         "fillcolor": "rgba(255,255,255,0)",
         "hoveron": "points",
         "hovertemplate": "<b>%{hovertext}</b><br><br>Continente=América do Sul<br>PIB=%{x}<br>População=%{y}<extra></extra>",
         "hovertext": [
          "Argentina",
          "Bolivia",
          "Brazil",
          "Chile",
          "Colombia",
          "Ecuador",
          "Paraguay",
          "Peru",
          "Uruguay"
         ],
         "legendgroup": "América do Sul",
         "line": {
          "color": "rgba(255,255,255,0)"
         },
         "marker": {
          "color": "#00cc96"
         },
         "name": "América do Sul",
         "offsetgroup": "América do Sul",
         "orientation": "v",
         "pointpos": 0,
         "showlegend": true,
         "type": "box",
         "x": {
          "bdata": "AADuv1lybEIAADBAEQM3QgAAHp8JaYZCAAB0frGmWUIAABCSeZhkQgAAkHuIuUZCAAD4QAA1NEIAANjB/idXQgAAcKY/jzBC",
          "dtype": "f8"
         },
         "x0": " ",
         "xaxis": "x",
         "y": {
          "bdata": "AAAA4OxxhUEAAABA60JmQQAAAMYJu6hBAAAAMPNOckEAAACYSMyHQQAAABBniXBBAAAAAF3aWEEAAABQMfJ+QQAAAIAq60lB",
          "dtype": "f8"
         },
         "y0": " ",
         "yaxis": "y"
        },
        {
         "alignmentgroup": "True",
         "boxpoints": "all",
         "fillcolor": "rgba(255,255,255,0)",
         "hoveron": "points",
         "hovertemplate": "<b>%{hovertext}</b><br><br>Continente=Ásia<br>PIB=%{x}<br>População=%{y}<extra></extra>",
         "hovertext": [
          "Armenia",
          "Azerbaijan",
          "Bahrain",
          "Bangladesh",
          "China",
          "Georgia",
          "Hong Kong",
          "India",
          "Indonesia",
          "Iran",
          "Iraq",
          "Israel",
          "Japan",
          "Kazakhstan",
          "Kuwait",
          "Kyrgyzstan",
          "Laos",
          "Lebanon",
          "Malaysia",
          "Maldives",
          "Mongolia",
          "Myanmar",
          "Nepal",
          "Pakistan",
          "Palestine",
          "Philippines",
          "Saudi Arabia",
          "Singapore",
          "South Korea",
          "Sri Lanka",
          "Thailand",
          "United Arab Emirates",
          "Vietnam"
         ],
         "legendgroup": "Ásia",
         "line": {
          "color": "rgba(255,255,255,0)"
         },
         "marker": {
          "color": "#ab63fa"
         },
         "name": "Ásia",
         "offsetgroup": "Ásia",
         "orientation": "v",
         "pointpos": 0,
         "showlegend": true,
         "type": "box",
         "x": {
          "bdata": "AAAwo3JLJEIAAECA4YxCQgAAEP4u8jFCAADoNX8aZkIAANegmmyyQgAA8Hwyvi9CAAAgI1q5V0IAgKlYX66gQgAAxhna1IZCAABiYavzb0IAAPR+bEZbQgAA6Lx4H1NCAAAzZfhSkkIAAGBk9ZBeQgAAMORyZE5CAADgIuFUIkIAAMCiHFMpQgAAULhFizdCAAB4YSXuZ0IAAMCfgjIDQgAAANtM3yFCAAA4Xjc2UEIAACDIpy84QgAAVMH5rW9CAADgHSkiIUIAALBbj5VqQgAAULr513lCAAAQ4mHRW0IAAKJ/tHh/QgAAsCHqflBCAACg9oxXcUIAAFDAv8xiQgAA6MYjE2VC",
          "dtype": "f8"
         },
         "x0": " ",
         "xaxis": "x",
         "y": {
          "bdata": "AAAAgNMnRkEAAADAwkhjQQAAAABrqzZBAAAASL+oo0EAAICYTDbVQQAAAIB490xBAAAAAF6OXEEAAMDnurLUQQAAAKPbPbBBAAAA/DXBlEEAAABgV6SDQQAAAEBHg2BBAAAAeB41nkEAAABA1VFyQQAAAIAW8lBBAAAAANXFWEEAAACAAJxbQQAAAADKGlZBAAAAwDTkf0EAAAAA5MQdQQAAAIC7qEhBAAAAcN4ZiUEAAAAgBxl7QQAAABp8g6tBAAAAgJPpUkEAAAA0+2qaQQAAAKCmD31BAAAAgK6gVUEAAAAYUa+IQQAAAIBTX3VBAAAAZF8NkUEAAADgB+NhQQAAAEgEK5dB",
          "dtype": "f8"
         },
         "y0": " ",
         "yaxis": "y"
        },
        {
         "alignmentgroup": "True",
         "boxpoints": "all",
         "fillcolor": "rgba(255,255,255,0)",
         "hoveron": "points",
         "hovertemplate": "<b>%{hovertext}</b><br><br>Continente=Oceania<br>PIB=%{x}<br>População=%{y}<extra></extra>",
         "hovertext": [
          "Australia",
          "New Zealand"
         ],
         "legendgroup": "Oceania",
         "line": {
          "color": "rgba(255,255,255,0)"
         },
         "marker": {
          "color": "#FFA15A"
         },
         "name": "Oceania",
         "offsetgroup": "Oceania",
         "orientation": "v",
         "pointpos": 0,
         "showlegend": true,
         "type": "box",
         "x": {
          "bdata": "AAAEK9Lbc0IAAGDZ4B5HQg==",
          "dtype": "f8"
         },
         "x0": " ",
         "xaxis": "x",
         "y": {
          "bdata": "AAAAoF1NeEEAAAAAeQhTQQ==",
          "dtype": "f8"
         },
         "y0": " ",
         "yaxis": "y"
        },
        {
         "alignmentgroup": "True",
         "boxpoints": "all",
         "fillcolor": "rgba(255,255,255,0)",
         "hoveron": "points",
         "hovertemplate": "<b>%{hovertext}</b><br><br>Continente=América do Norte<br>PIB=%{x}<br>População=%{y}<extra></extra>",
         "hovertext": [
          "Canada",
          "Mexico",
          "United States"
         ],
         "legendgroup": "América do Norte",
         "line": {
          "color": "rgba(255,255,255,0)"
         },
         "marker": {
          "color": "#19d3f3"
         },
         "name": "América do Norte",
         "offsetgroup": "América do Norte",
         "orientation": "v",
         "pointpos": 0,
         "showlegend": true,
         "type": "box",
         "x": {
          "bdata": "AAASODEoe0IAAMKiUmSBQgBAawZYu7JC",
          "dtype": "f8"
         },
         "x0": " ",
         "xaxis": "x",
         "y": {
          "bdata": "AAAAmCwEgkEAAACE9vudQQAAAHREIrRB",
          "dtype": "f8"
         },
         "y0": " ",
         "yaxis": "y"
        },
        {
         "alignmentgroup": "True",
         "boxpoints": "all",
         "fillcolor": "rgba(255,255,255,0)",
         "hoveron": "points",
         "hovertemplate": "<b>%{hovertext}</b><br><br>Continente=América Central<br>PIB=%{x}<br>População=%{y}<extra></extra>",
         "hovertext": [
          "Costa Rica",
          "Dominican Republic",
          "El Salvador",
          "Guatemala",
          "Haiti",
          "Honduras",
          "Nicaragua",
          "Panama"
         ],
         "legendgroup": "América Central",
         "line": {
          "color": "rgba(255,255,255,0)"
         },
         "marker": {
          "color": "#FF6692"
         },
         "name": "América Central",
         "offsetgroup": "América Central",
         "orientation": "v",
         "pointpos": 0,
         "showlegend": true,
         "type": "box",
         "x": {
          "bdata": "AADwHIzENUIAANASYWlGQgAAoDQJZChCAABgL0vOP0IAAIAADk0QQgAAwGV5oihCAABg/bqgHkIAAGjB04o9Qg==",
          "dtype": "f8"
         },
         "x0": " ",
         "xaxis": "x",
         "y": {
          "bdata": "AAAAwF8SU0EAAABgW8dkQQAAAAB7vFdBAAAAoLtPcEEAAACAcS5lQQAAAKBK92JBAAAAALO7WEEAAADAcidQQQ==",
          "dtype": "f8"
         },
         "y0": " ",
         "yaxis": "y"
        }
       ],
       "layout": {
        "boxmode": "group",
        "legend": {
         "title": {
          "text": "Continente"
         },
         "tracegroupgap": 0
        },
        "margin": {
         "t": 60
        },
        "template": {
         "data": {
          "bar": [
           {
            "error_x": {
             "color": "#2a3f5f"
            },
            "error_y": {
             "color": "#2a3f5f"
            },
            "marker": {
             "line": {
              "color": "#E5ECF6",
              "width": 0.5
             },
             "pattern": {
              "fillmode": "overlay",
              "size": 10,
              "solidity": 0.2
             }
            },
            "type": "bar"
           }
          ],
          "barpolar": [
           {
            "marker": {
             "line": {
              "color": "#E5ECF6",
              "width": 0.5
             },
             "pattern": {
              "fillmode": "overlay",
              "size": 10,
              "solidity": 0.2
             }
            },
            "type": "barpolar"
           }
          ],
          "carpet": [
           {
            "aaxis": {
             "endlinecolor": "#2a3f5f",
             "gridcolor": "white",
             "linecolor": "white",
             "minorgridcolor": "white",
             "startlinecolor": "#2a3f5f"
            },
            "baxis": {
             "endlinecolor": "#2a3f5f",
             "gridcolor": "white",
             "linecolor": "white",
             "minorgridcolor": "white",
             "startlinecolor": "#2a3f5f"
            },
            "type": "carpet"
           }
          ],
          "choropleth": [
           {
            "colorbar": {
             "outlinewidth": 0,
             "ticks": ""
            },
            "type": "choropleth"
           }
          ],
          "contour": [
           {
            "colorbar": {
             "outlinewidth": 0,
             "ticks": ""
            },
            "colorscale": [
             [
              0,
              "#0d0887"
             ],
             [
              0.1111111111111111,
              "#46039f"
             ],
             [
              0.2222222222222222,
              "#7201a8"
             ],
             [
              0.3333333333333333,
              "#9c179e"
             ],
             [
              0.4444444444444444,
              "#bd3786"
             ],
             [
              0.5555555555555556,
              "#d8576b"
             ],
             [
              0.6666666666666666,
              "#ed7953"
             ],
             [
              0.7777777777777778,
              "#fb9f3a"
             ],
             [
              0.8888888888888888,
              "#fdca26"
             ],
             [
              1,
              "#f0f921"
             ]
            ],
            "type": "contour"
           }
          ],
          "contourcarpet": [
           {
            "colorbar": {
             "outlinewidth": 0,
             "ticks": ""
            },
            "type": "contourcarpet"
           }
          ],
          "heatmap": [
           {
            "colorbar": {
             "outlinewidth": 0,
             "ticks": ""
            },
            "colorscale": [
             [
              0,
              "#0d0887"
             ],
             [
              0.1111111111111111,
              "#46039f"
             ],
             [
              0.2222222222222222,
              "#7201a8"
             ],
             [
              0.3333333333333333,
              "#9c179e"
             ],
             [
              0.4444444444444444,
              "#bd3786"
             ],
             [
              0.5555555555555556,
              "#d8576b"
             ],
             [
              0.6666666666666666,
              "#ed7953"
             ],
             [
              0.7777777777777778,
              "#fb9f3a"
             ],
             [
              0.8888888888888888,
              "#fdca26"
             ],
             [
              1,
              "#f0f921"
             ]
            ],
            "type": "heatmap"
           }
          ],
          "histogram": [
           {
            "marker": {
             "pattern": {
              "fillmode": "overlay",
              "size": 10,
              "solidity": 0.2
             }
            },
            "type": "histogram"
           }
          ],
          "histogram2d": [
           {
            "colorbar": {
             "outlinewidth": 0,
             "ticks": ""
            },
            "colorscale": [
             [
              0,
              "#0d0887"
             ],
             [
              0.1111111111111111,
              "#46039f"
             ],
             [
              0.2222222222222222,
              "#7201a8"
             ],
             [
              0.3333333333333333,
              "#9c179e"
             ],
             [
              0.4444444444444444,
              "#bd3786"
             ],
             [
              0.5555555555555556,
              "#d8576b"
             ],
             [
              0.6666666666666666,
              "#ed7953"
             ],
             [
              0.7777777777777778,
              "#fb9f3a"
             ],
             [
              0.8888888888888888,
              "#fdca26"
             ],
             [
              1,
              "#f0f921"
             ]
            ],
            "type": "histogram2d"
           }
          ],
          "histogram2dcontour": [
           {
            "colorbar": {
             "outlinewidth": 0,
             "ticks": ""
            },
            "colorscale": [
             [
              0,
              "#0d0887"
             ],
             [
              0.1111111111111111,
              "#46039f"
             ],
             [
              0.2222222222222222,
              "#7201a8"
             ],
             [
              0.3333333333333333,
              "#9c179e"
             ],
             [
              0.4444444444444444,
              "#bd3786"
             ],
             [
              0.5555555555555556,
              "#d8576b"
             ],
             [
              0.6666666666666666,
              "#ed7953"
             ],
             [
              0.7777777777777778,
              "#fb9f3a"
             ],
             [
              0.8888888888888888,
              "#fdca26"
             ],
             [
              1,
              "#f0f921"
             ]
            ],
            "type": "histogram2dcontour"
           }
          ],
          "mesh3d": [
           {
            "colorbar": {
             "outlinewidth": 0,
             "ticks": ""
            },
            "type": "mesh3d"
           }
          ],
          "parcoords": [
           {
            "line": {
             "colorbar": {
              "outlinewidth": 0,
              "ticks": ""
             }
            },
            "type": "parcoords"
           }
          ],
          "pie": [
           {
            "automargin": true,
            "type": "pie"
           }
          ],
          "scatter": [
           {
            "fillpattern": {
             "fillmode": "overlay",
             "size": 10,
             "solidity": 0.2
            },
            "type": "scatter"
           }
          ],
          "scatter3d": [
           {
            "line": {
             "colorbar": {
              "outlinewidth": 0,
              "ticks": ""
             }
            },
            "marker": {
             "colorbar": {
              "outlinewidth": 0,
              "ticks": ""
             }
            },
            "type": "scatter3d"
           }
          ],
          "scattercarpet": [
           {
            "marker": {
             "colorbar": {
              "outlinewidth": 0,
              "ticks": ""
             }
            },
            "type": "scattercarpet"
           }
          ],
          "scattergeo": [
           {
            "marker": {
             "colorbar": {
              "outlinewidth": 0,
              "ticks": ""
             }
            },
            "type": "scattergeo"
           }
          ],
          "scattergl": [
           {
            "marker": {
             "colorbar": {
              "outlinewidth": 0,
              "ticks": ""
             }
            },
            "type": "scattergl"
           }
          ],
          "scattermap": [
           {
            "marker": {
             "colorbar": {
              "outlinewidth": 0,
              "ticks": ""
             }
            },
            "type": "scattermap"
           }
          ],
          "scattermapbox": [
           {
            "marker": {
             "colorbar": {
              "outlinewidth": 0,
              "ticks": ""
             }
            },
            "type": "scattermapbox"
           }
          ],
          "scatterpolar": [
           {
            "marker": {
             "colorbar": {
              "outlinewidth": 0,
              "ticks": ""
             }
            },
            "type": "scatterpolar"
           }
          ],
          "scatterpolargl": [
           {
            "marker": {
             "colorbar": {
              "outlinewidth": 0,
              "ticks": ""
             }
            },
            "type": "scatterpolargl"
           }
          ],
          "scatterternary": [
           {
            "marker": {
             "colorbar": {
              "outlinewidth": 0,
              "ticks": ""
             }
            },
            "type": "scatterternary"
           }
          ],
          "surface": [
           {
            "colorbar": {
             "outlinewidth": 0,
             "ticks": ""
            },
            "colorscale": [
             [
              0,
              "#0d0887"
             ],
             [
              0.1111111111111111,
              "#46039f"
             ],
             [
              0.2222222222222222,
              "#7201a8"
             ],
             [
              0.3333333333333333,
              "#9c179e"
             ],
             [
              0.4444444444444444,
              "#bd3786"
             ],
             [
              0.5555555555555556,
              "#d8576b"
             ],
             [
              0.6666666666666666,
              "#ed7953"
             ],
             [
              0.7777777777777778,
              "#fb9f3a"
             ],
             [
              0.8888888888888888,
              "#fdca26"
             ],
             [
              1,
              "#f0f921"
             ]
            ],
            "type": "surface"
           }
          ],
          "table": [
           {
            "cells": {
             "fill": {
              "color": "#EBF0F8"
             },
             "line": {
              "color": "white"
             }
            },
            "header": {
             "fill": {
              "color": "#C8D4E3"
             },
             "line": {
              "color": "white"
             }
            },
            "type": "table"
           }
          ]
         },
         "layout": {
          "annotationdefaults": {
           "arrowcolor": "#2a3f5f",
           "arrowhead": 0,
           "arrowwidth": 1
          },
          "autotypenumbers": "strict",
          "coloraxis": {
           "colorbar": {
            "outlinewidth": 0,
            "ticks": ""
           }
          },
          "colorscale": {
           "diverging": [
            [
             0,
             "#8e0152"
            ],
            [
             0.1,
             "#c51b7d"
            ],
            [
             0.2,
             "#de77ae"
            ],
            [
             0.3,
             "#f1b6da"
            ],
            [
             0.4,
             "#fde0ef"
            ],
            [
             0.5,
             "#f7f7f7"
            ],
            [
             0.6,
             "#e6f5d0"
            ],
            [
             0.7,
             "#b8e186"
            ],
            [
             0.8,
             "#7fbc41"
            ],
            [
             0.9,
             "#4d9221"
            ],
            [
             1,
             "#276419"
            ]
           ],
           "sequential": [
            [
             0,
             "#0d0887"
            ],
            [
             0.1111111111111111,
             "#46039f"
            ],
            [
             0.2222222222222222,
             "#7201a8"
            ],
            [
             0.3333333333333333,
             "#9c179e"
            ],
            [
             0.4444444444444444,
             "#bd3786"
            ],
            [
             0.5555555555555556,
             "#d8576b"
            ],
            [
             0.6666666666666666,
             "#ed7953"
            ],
            [
             0.7777777777777778,
             "#fb9f3a"
            ],
            [
             0.8888888888888888,
             "#fdca26"
            ],
            [
             1,
             "#f0f921"
            ]
           ],
           "sequentialminus": [
            [
             0,
             "#0d0887"
            ],
            [
             0.1111111111111111,
             "#46039f"
            ],
            [
             0.2222222222222222,
             "#7201a8"
            ],
            [
             0.3333333333333333,
             "#9c179e"
            ],
            [
             0.4444444444444444,
             "#bd3786"
            ],
            [
             0.5555555555555556,
             "#d8576b"
            ],
            [
             0.6666666666666666,
             "#ed7953"
            ],
            [
             0.7777777777777778,
             "#fb9f3a"
            ],
            [
             0.8888888888888888,
             "#fdca26"
            ],
            [
             1,
             "#f0f921"
            ]
           ]
          },
          "colorway": [
           "#636efa",
           "#EF553B",
           "#00cc96",
           "#ab63fa",
           "#FFA15A",
           "#19d3f3",
           "#FF6692",
           "#B6E880",
           "#FF97FF",
           "#FECB52"
          ],
          "font": {
           "color": "#2a3f5f"
          },
          "geo": {
           "bgcolor": "white",
           "lakecolor": "white",
           "landcolor": "#E5ECF6",
           "showlakes": true,
           "showland": true,
           "subunitcolor": "white"
          },
          "hoverlabel": {
           "align": "left"
          },
          "hovermode": "closest",
          "mapbox": {
           "style": "light"
          },
          "paper_bgcolor": "white",
          "plot_bgcolor": "#E5ECF6",
          "polar": {
           "angularaxis": {
            "gridcolor": "white",
            "linecolor": "white",
            "ticks": ""
           },
           "bgcolor": "#E5ECF6",
           "radialaxis": {
            "gridcolor": "white",
            "linecolor": "white",
            "ticks": ""
           }
          },
          "scene": {
           "xaxis": {
            "backgroundcolor": "#E5ECF6",
            "gridcolor": "white",
            "gridwidth": 2,
            "linecolor": "white",
            "showbackground": true,
            "ticks": "",
            "zerolinecolor": "white"
           },
           "yaxis": {
            "backgroundcolor": "#E5ECF6",
            "gridcolor": "white",
            "gridwidth": 2,
            "linecolor": "white",
            "showbackground": true,
            "ticks": "",
            "zerolinecolor": "white"
           },
           "zaxis": {
            "backgroundcolor": "#E5ECF6",
            "gridcolor": "white",
            "gridwidth": 2,
            "linecolor": "white",
            "showbackground": true,
            "ticks": "",
            "zerolinecolor": "white"
           }
          },
          "shapedefaults": {
           "line": {
            "color": "#2a3f5f"
           }
          },
          "ternary": {
           "aaxis": {
            "gridcolor": "white",
            "linecolor": "white",
            "ticks": ""
           },
           "baxis": {
            "gridcolor": "white",
            "linecolor": "white",
            "ticks": ""
           },
           "bgcolor": "#E5ECF6",
           "caxis": {
            "gridcolor": "white",
            "linecolor": "white",
            "ticks": ""
           }
          },
          "title": {
           "x": 0.05
          },
          "xaxis": {
           "automargin": true,
           "gridcolor": "white",
           "linecolor": "white",
           "ticks": "",
           "title": {
            "standoff": 15
           },
           "zerolinecolor": "white",
           "zerolinewidth": 2
          },
          "yaxis": {
           "automargin": true,
           "gridcolor": "white",
           "linecolor": "white",
           "ticks": "",
           "title": {
            "standoff": 15
           },
           "zerolinecolor": "white",
           "zerolinewidth": 2
          }
         }
        },
        "xaxis": {
         "anchor": "y",
         "domain": [
          0,
          1
         ],
         "title": {
          "text": "PIB"
         }
        },
        "yaxis": {
         "anchor": "x",
         "domain": [
          0,
          1
         ],
         "title": {
          "text": "População"
         }
        }
       }
      }
     },
     "metadata": {},
     "output_type": "display_data"
    },
    {
     "data": {
      "application/vnd.plotly.v1+json": {
       "config": {
        "plotlyServerURL": "https://plot.ly"
       },
       "data": [
        {
         "hovertemplate": "<b>%{hovertext}</b><br><br>População=%{x}<br>Continente=%{y}<br>Expectativa de Vida=%{marker.color}<extra></extra>",
         "hovertext": [
          "Albania",
          "Algeria",
          "Argentina",
          "Armenia",
          "Australia",
          "Austria",
          "Azerbaijan",
          "Bahrain",
          "Bangladesh",
          "Belarus",
          "Belgium",
          "Benin",
          "Bolivia",
          "Bosnia and Herzegovina",
          "Botswana",
          "Brazil",
          "Bulgaria",
          "Burkina Faso",
          "Burundi",
          "Cameroon",
          "Canada",
          "Central African Republic",
          "Chad",
          "Chile",
          "China",
          "Colombia",
          "Costa Rica",
          "Cote d'Ivoire",
          "Croatia",
          "Cyprus",
          "Czechia",
          "Democratic Republic of Congo",
          "Denmark",
          "Dominican Republic",
          "Ecuador",
          "Egypt",
          "El Salvador",
          "Estonia",
          "Ethiopia",
          "Finland",
          "France",
          "Gabon",
          "Gambia",
          "Georgia",
          "Germany",
          "Ghana",
          "Greece",
          "Guatemala",
          "Guinea",
          "Haiti",
          "Honduras",
          "Hong Kong",
          "Hungary",
          "Iceland",
          "India",
          "Indonesia",
          "Iran",
          "Iraq",
          "Ireland",
          "Israel",
          "Italy",
          "Japan",
          "Kazakhstan",
          "Kenya",
          "Kuwait",
          "Kyrgyzstan",
          "Laos",
          "Latvia",
          "Lebanon",
          "Lesotho",
          "Liberia",
          "Lithuania",
          "Luxembourg",
          "Malawi",
          "Malaysia",
          "Maldives",
          "Mali",
          "Malta",
          "Mauritania",
          "Mauritius",
          "Mexico",
          "Mongolia",
          "Montenegro",
          "Morocco",
          "Mozambique",
          "Myanmar",
          "Namibia",
          "Nepal",
          "Netherlands",
          "New Zealand",
          "Nicaragua",
          "Nigeria",
          "North Macedonia",
          "Norway",
          "Pakistan",
          "Palestine",
          "Panama",
          "Paraguay",
          "Peru",
          "Philippines",
          "Poland",
          "Portugal",
          "Romania",
          "Russia",
          "Rwanda",
          "Saudi Arabia",
          "Senegal",
          "Serbia",
          "Sierra Leone",
          "Singapore",
          "Slovakia",
          "Slovenia",
          "South Africa",
          "South Korea",
          "Spain",
          "Sri Lanka",
          "Sweden",
          "Switzerland",
          "Tanzania",
          "Thailand",
          "Togo",
          "Tunisia",
          "Turkey",
          "Uganda",
          "Ukraine",
          "United Arab Emirates",
          "United Kingdom",
          "United States",
          "Uruguay",
          "Vietnam",
          "Zambia",
          "Zimbabwe",
          null,
          null,
          null
         ],
         "legendgroup": "",
         "marker": {
          "color": {
           "bdata": "rkfhehTSU0DY8PRKWR5TQJHtfD81UlNAowG8BRLcUkDXo3A9CsdUQBKlvcEXelRAX5hMFYxGUkAp7Q2+MAFUQMiYu5aQM1JA5/up8dKNUkAp7Q2+MHVUQPwYc9cSOk5A5/up8dL1UEDl8h/Sb09TQD2bVZ+rXVBAYVRSJ6DVUkBO0ZFc/sNSQAWjkjoBBU5APujZrPosT0A0ETY8vcpOQEi/fR04l1RAXkvIBz2DS0CMSuoENKFKQNQrZRniFFRAy6FFtvN9U0D5MeauJTBTQHo2qz5X21NAVOOlm8SoTUDlYaHWNK9TQMUgsHJoWVRAescpOpLPU0DswDkjSiNOQJ0Rpb3BW1RAm+Ydp+hkUkAQ6bevA1NTQHsUrkfh1lFA6+I2GsAjUkCfzarP1apTQP32deCcdVBAcvkP6bd3VECJQWDl0K5UQNiBc0aUplBADeAtkKDgT0DnjCjtDV5SQIiFWtO8Y1RAQfFjzF0vUEBd/kP67U9UQBUdyeU/SFJA+THmriXcTUDxY8xdSxBQQFwgQfFjOFJAL90kBoFRVUCppE5AEx1TQMRCrWnemVRAp3nHKTq6UUDFjzF3LaFRQO0NvjCZBlNAhlrTvOPkUUC4rwPnjJBUQJyiI7n8s1RAF9nO91PjVEDBqKROQBtVQLgehetR5FFAKcsQx7p4T0CkcD0K1+tTQNCzWfW5zlFAqRPQRNgIUUADeAskKOJSQBdIUPwYz1NAEqW9wRcWS0Do2az6XI1OQG+BBMWPDVNAxY8xdy2JVEDysFBrmgdQQIbJVMGo8FJAgZVDi2wHVEB3LSEf9NRNQPCnxks3zVRA1edqK/ZrUECzDHGsi8dSQGKh1jTvjFJAqoJRSZ30UUD7OnDOiEJTQFpkO99PkVJAMEymCkaVTkCeXinLEKdQQJqZmZmZiU9A+Q/pt69jUUD0/dR46YJUQMdLN4lBpFRADwu1pnmDUkCjI7n8h3RKQDQRNjy9UlNA6Ugu/yG9VEBGlPYGX7BQQLraiv1lz1JAufyH9NtzU0AkKH6MuWdSQJJc/kP6CVNA3pOHhVr3UUB6Nqs+V3tTQKkT0ETYbFRA3GgAb4EgU0AkKH6MuXtSQIcW2c73m1BAM8SxLm5TU0AoDwu1piFRQJMYBFYOLVNADeAtkKAgTkBUUiegifBUQFafq63Ya1NAkQ96NqtmVEAzMzMzM4tQQC7/If326VRA54wo7Q3iVEBUUiegiQBTQN6Th4Vaw1RAtRX7y+7xVEAlBoGVQ79QQBiV1AlovlNAejarPldzTkB6xyk6kv9SQAU0ETY8dVNALUMc6+J+T0DDZKpgVKJSQLyWkA967lNAZmZmZmZuVEBGtvP91MhTQAaBlUOLYFNAGXPXEvKFUkChZ7Pqc2VPQD0K16NwpU5AAAAAAAAA+H8AAAAAAAD4fwAAAAAAAPh/",
           "dtype": "f8"
          },
          "coloraxis": "coloraxis",
          "pattern": {
           "shape": ""
          }
         },
         "name": "",
         "orientation": "h",
         "showlegend": false,
         "textposition": "auto",
         "type": "bar",
         "x": {
          "bdata": "AAAAAMoCRkEAAACw+qSEQQAAAODscYVBAAAAgNMnRkEAAACgXU14QQAAAGBd8GBBAAAAwMJIY0EAAAAAa6s2QQAAAEi/qKNBAAAAwCL/YUEAAADAp+plQQAAACA9RmhBAAAAQOtCZkEAAAAAP4ZJQQAAAIDYykFBAAAAxgm7qEEAAADA+ptaQQAAACCq/XNBAAAAYA1gZ0EAAAAAE1N4QQAAAJgsBIJBAAAAwNDcUkEAAADgFNNvQQAAADDzTnJBAACAmEw21UEAAACYSMyHQQAAAMBfElNBAAAAYA/jekEAAAAA0WlOQQAAAAANojNBAAAA4L4hZEEAAADoDymWQQAAAMBWLlZBAAAAYFvHZEEAAAAQZ4lwQQAAAByGpJlBAAAAAHu8V0EAAAAA5T40QQAAAKQMmJtBAAAAwFYQVUEAAACgnVePQQAAAAAfTUFBAAAAgIe+QkEAAACAePdMQQAAAEQM7JNBAAAA4JPPfUEAAACArnFkQQAAAKC7T3BBAAAAoG3caEEAAACAcS5lQQAAAKBK92JBAAAAAF6OXEEAAABAraJiQQAAAAAUBBZBAADA57qy1EEAAACj2z2wQQAAAPw1wZRBAAAAYFekg0EAAADA3NFSQQAAAEBHg2BBAAAAwBqsjEEAAAB4HjWeQQAAAEDVUXJBAAAAaFhqiEEAAACAFvJQQQAAAADVxVhBAAAAgACcW0EAAAAAmzU9QQAAAADKGlZBAAAAAEPbQEEAAAAAgj1TQQAAAIAYU0VBAAAAAAztIkEAAABA9SRyQQAAAMA05H9BAAAAAOTEHUEAAABgpxd0QQAAAABEwx5BAAAAgAALUUEAAAAAfaAzQQAAAIT2+51BAAAAgLuoSEEAAAAAsqoiQQAAANhGRIFBAAAAgP1/fEEAAABw3hmJQQAAAADCOERBAAAAIAcZe0EAAAAgnrlwQQAAAAB5CFNBAAAAALO7WEEAAACI/vioQQAAAACr9DxBAAAAwGVmVEEAAAAafIOrQQAAAICT6VJBAAAAwHInUEEAAAAAXdpYQQAAAFAx8n5BAAAANPtqmkEAAADgPjqCQQAAAEBmumNBAAAAcB6ZckEAAACO1XehQQAAAABVXmhBAAAAoKYPfUEAAADA0zBvQQAAAIDiklpBAAAAwMZ+XUEAAACArqBVQQAAAIDgylRBAAAAAGzKP0EAAABA6WmMQQAAABhRr4hBAAAAgGuehkEAAACAU191QQAAAEAam2NBAAAAwD5cYEEAAABIfzeMQQAAAGRfDZFBAAAAgFskYEEAAACgYaZmQQAAAJzRWZRBAAAAoPqAhEEAAABQ+G+FQQAAAOAH42FBAAAAuCAAkEEAAAB0RCK0QQAAAIAq60lBAAAASAQrl0EAAAAQ+6dxQQAAACC6IG1BAAAAAAAA+H8AAAAAAAD4fwAAAAAAAPh/",
          "dtype": "f8"
         },
         "xaxis": "x",
         "y": [
          "Europa",
          "África",
          "América do Sul",
          "Ásia",
          "Oceania",
          "Europa",
          "Ásia",
          "Ásia",
          "Ásia",
          "Europa",
          "Europa",
          "África",
          "América do Sul",
          "Europa",
          "África",
          "América do Sul",
          "Europa",
          "África",
          "África",
          "África",
          "América do Norte",
          "África",
          "África",
          "América do Sul",
          "Ásia",
          "América do Sul",
          "América Central",
          "África",
          "Europa",
          "Europa",
          "Europa",
          "África",
          "Europa",
          "América Central",
          "América do Sul",
          "África",
          "América Central",
          "Europa",
          "África",
          "Europa",
          "Europa",
          "África",
          "África",
          "Ásia",
          "Europa",
          "África",
          "Europa",
          "América Central",
          "África",
          "América Central",
          "América Central",
          "Ásia",
          "Europa",
          "Europa",
          "Ásia",
          "Ásia",
          "Ásia",
          "Ásia",
          "Europa",
          "Ásia",
          "Europa",
          "Ásia",
          "Ásia",
          "África",
          "Ásia",
          "Ásia",
          "Ásia",
          "Europa",
          "Ásia",
          "África",
          "África",
          "Europa",
          "Europa",
          "África",
          "Ásia",
          "Ásia",
          "África",
          "Europa",
          "África",
          "África",
          "América do Norte",
          "Ásia",
          "Europa",
          "África",
          "África",
          "Ásia",
          "África",
          "Ásia",
          "Europa",
          "Oceania",
          "América Central",
          "África",
          "Europa",
          "Europa",
          "Ásia",
          "Ásia",
          "América Central",
          "América do Sul",
          "América do Sul",
          "Ásia",
          "Europa",
          "Europa",
          "Europa",
          "Europa",
          "África",
          "Ásia",
          "África",
          "Europa",
          "África",
          "Ásia",
          "Europa",
          "Europa",
          "África",
          "Ásia",
          "Europa",
          "Ásia",
          "Europa",
          "Europa",
          "África",
          "Ásia",
          "África",
          "África",
          "Europa",
          "África",
          "Europa",
          "Ásia",
          "Europa",
          "América do Norte",
          "América do Sul",
          "Ásia",
          "África",
          "África",
          null,
          null,
          null
         ],
         "yaxis": "y"
        }
       ],
       "layout": {
        "barmode": "relative",
        "coloraxis": {
         "colorbar": {
          "title": {
           "text": "Expectativa de Vida"
          }
         },
         "colorscale": [
          [
           0,
           "#0d0887"
          ],
          [
           0.1111111111111111,
           "#46039f"
          ],
          [
           0.2222222222222222,
           "#7201a8"
          ],
          [
           0.3333333333333333,
           "#9c179e"
          ],
          [
           0.4444444444444444,
           "#bd3786"
          ],
          [
           0.5555555555555556,
           "#d8576b"
          ],
          [
           0.6666666666666666,
           "#ed7953"
          ],
          [
           0.7777777777777778,
           "#fb9f3a"
          ],
          [
           0.8888888888888888,
           "#fdca26"
          ],
          [
           1,
           "#f0f921"
          ]
         ]
        },
        "legend": {
         "tracegroupgap": 0
        },
        "margin": {
         "t": 60
        },
        "template": {
         "data": {
          "bar": [
           {
            "error_x": {
             "color": "#2a3f5f"
            },
            "error_y": {
             "color": "#2a3f5f"
            },
            "marker": {
             "line": {
              "color": "#E5ECF6",
              "width": 0.5
             },
             "pattern": {
              "fillmode": "overlay",
              "size": 10,
              "solidity": 0.2
             }
            },
            "type": "bar"
           }
          ],
          "barpolar": [
           {
            "marker": {
             "line": {
              "color": "#E5ECF6",
              "width": 0.5
             },
             "pattern": {
              "fillmode": "overlay",
              "size": 10,
              "solidity": 0.2
             }
            },
            "type": "barpolar"
           }
          ],
          "carpet": [
           {
            "aaxis": {
             "endlinecolor": "#2a3f5f",
             "gridcolor": "white",
             "linecolor": "white",
             "minorgridcolor": "white",
             "startlinecolor": "#2a3f5f"
            },
            "baxis": {
             "endlinecolor": "#2a3f5f",
             "gridcolor": "white",
             "linecolor": "white",
             "minorgridcolor": "white",
             "startlinecolor": "#2a3f5f"
            },
            "type": "carpet"
           }
          ],
          "choropleth": [
           {
            "colorbar": {
             "outlinewidth": 0,
             "ticks": ""
            },
            "type": "choropleth"
           }
          ],
          "contour": [
           {
            "colorbar": {
             "outlinewidth": 0,
             "ticks": ""
            },
            "colorscale": [
             [
              0,
              "#0d0887"
             ],
             [
              0.1111111111111111,
              "#46039f"
             ],
             [
              0.2222222222222222,
              "#7201a8"
             ],
             [
              0.3333333333333333,
              "#9c179e"
             ],
             [
              0.4444444444444444,
              "#bd3786"
             ],
             [
              0.5555555555555556,
              "#d8576b"
             ],
             [
              0.6666666666666666,
              "#ed7953"
             ],
             [
              0.7777777777777778,
              "#fb9f3a"
             ],
             [
              0.8888888888888888,
              "#fdca26"
             ],
             [
              1,
              "#f0f921"
             ]
            ],
            "type": "contour"
           }
          ],
          "contourcarpet": [
           {
            "colorbar": {
             "outlinewidth": 0,
             "ticks": ""
            },
            "type": "contourcarpet"
           }
          ],
          "heatmap": [
           {
            "colorbar": {
             "outlinewidth": 0,
             "ticks": ""
            },
            "colorscale": [
             [
              0,
              "#0d0887"
             ],
             [
              0.1111111111111111,
              "#46039f"
             ],
             [
              0.2222222222222222,
              "#7201a8"
             ],
             [
              0.3333333333333333,
              "#9c179e"
             ],
             [
              0.4444444444444444,
              "#bd3786"
             ],
             [
              0.5555555555555556,
              "#d8576b"
             ],
             [
              0.6666666666666666,
              "#ed7953"
             ],
             [
              0.7777777777777778,
              "#fb9f3a"
             ],
             [
              0.8888888888888888,
              "#fdca26"
             ],
             [
              1,
              "#f0f921"
             ]
            ],
            "type": "heatmap"
           }
          ],
          "histogram": [
           {
            "marker": {
             "pattern": {
              "fillmode": "overlay",
              "size": 10,
              "solidity": 0.2
             }
            },
            "type": "histogram"
           }
          ],
          "histogram2d": [
           {
            "colorbar": {
             "outlinewidth": 0,
             "ticks": ""
            },
            "colorscale": [
             [
              0,
              "#0d0887"
             ],
             [
              0.1111111111111111,
              "#46039f"
             ],
             [
              0.2222222222222222,
              "#7201a8"
             ],
             [
              0.3333333333333333,
              "#9c179e"
             ],
             [
              0.4444444444444444,
              "#bd3786"
             ],
             [
              0.5555555555555556,
              "#d8576b"
             ],
             [
              0.6666666666666666,
              "#ed7953"
             ],
             [
              0.7777777777777778,
              "#fb9f3a"
             ],
             [
              0.8888888888888888,
              "#fdca26"
             ],
             [
              1,
              "#f0f921"
             ]
            ],
            "type": "histogram2d"
           }
          ],
          "histogram2dcontour": [
           {
            "colorbar": {
             "outlinewidth": 0,
             "ticks": ""
            },
            "colorscale": [
             [
              0,
              "#0d0887"
             ],
             [
              0.1111111111111111,
              "#46039f"
             ],
             [
              0.2222222222222222,
              "#7201a8"
             ],
             [
              0.3333333333333333,
              "#9c179e"
             ],
             [
              0.4444444444444444,
              "#bd3786"
             ],
             [
              0.5555555555555556,
              "#d8576b"
             ],
             [
              0.6666666666666666,
              "#ed7953"
             ],
             [
              0.7777777777777778,
              "#fb9f3a"
             ],
             [
              0.8888888888888888,
              "#fdca26"
             ],
             [
              1,
              "#f0f921"
             ]
            ],
            "type": "histogram2dcontour"
           }
          ],
          "mesh3d": [
           {
            "colorbar": {
             "outlinewidth": 0,
             "ticks": ""
            },
            "type": "mesh3d"
           }
          ],
          "parcoords": [
           {
            "line": {
             "colorbar": {
              "outlinewidth": 0,
              "ticks": ""
             }
            },
            "type": "parcoords"
           }
          ],
          "pie": [
           {
            "automargin": true,
            "type": "pie"
           }
          ],
          "scatter": [
           {
            "fillpattern": {
             "fillmode": "overlay",
             "size": 10,
             "solidity": 0.2
            },
            "type": "scatter"
           }
          ],
          "scatter3d": [
           {
            "line": {
             "colorbar": {
              "outlinewidth": 0,
              "ticks": ""
             }
            },
            "marker": {
             "colorbar": {
              "outlinewidth": 0,
              "ticks": ""
             }
            },
            "type": "scatter3d"
           }
          ],
          "scattercarpet": [
           {
            "marker": {
             "colorbar": {
              "outlinewidth": 0,
              "ticks": ""
             }
            },
            "type": "scattercarpet"
           }
          ],
          "scattergeo": [
           {
            "marker": {
             "colorbar": {
              "outlinewidth": 0,
              "ticks": ""
             }
            },
            "type": "scattergeo"
           }
          ],
          "scattergl": [
           {
            "marker": {
             "colorbar": {
              "outlinewidth": 0,
              "ticks": ""
             }
            },
            "type": "scattergl"
           }
          ],
          "scattermap": [
           {
            "marker": {
             "colorbar": {
              "outlinewidth": 0,
              "ticks": ""
             }
            },
            "type": "scattermap"
           }
          ],
          "scattermapbox": [
           {
            "marker": {
             "colorbar": {
              "outlinewidth": 0,
              "ticks": ""
             }
            },
            "type": "scattermapbox"
           }
          ],
          "scatterpolar": [
           {
            "marker": {
             "colorbar": {
              "outlinewidth": 0,
              "ticks": ""
             }
            },
            "type": "scatterpolar"
           }
          ],
          "scatterpolargl": [
           {
            "marker": {
             "colorbar": {
              "outlinewidth": 0,
              "ticks": ""
             }
            },
            "type": "scatterpolargl"
           }
          ],
          "scatterternary": [
           {
            "marker": {
             "colorbar": {
              "outlinewidth": 0,
              "ticks": ""
             }
            },
            "type": "scatterternary"
           }
          ],
          "surface": [
           {
            "colorbar": {
             "outlinewidth": 0,
             "ticks": ""
            },
            "colorscale": [
             [
              0,
              "#0d0887"
             ],
             [
              0.1111111111111111,
              "#46039f"
             ],
             [
              0.2222222222222222,
              "#7201a8"
             ],
             [
              0.3333333333333333,
              "#9c179e"
             ],
             [
              0.4444444444444444,
              "#bd3786"
             ],
             [
              0.5555555555555556,
              "#d8576b"
             ],
             [
              0.6666666666666666,
              "#ed7953"
             ],
             [
              0.7777777777777778,
              "#fb9f3a"
             ],
             [
              0.8888888888888888,
              "#fdca26"
             ],
             [
              1,
              "#f0f921"
             ]
            ],
            "type": "surface"
           }
          ],
          "table": [
           {
            "cells": {
             "fill": {
              "color": "#EBF0F8"
             },
             "line": {
              "color": "white"
             }
            },
            "header": {
             "fill": {
              "color": "#C8D4E3"
             },
             "line": {
              "color": "white"
             }
            },
            "type": "table"
           }
          ]
         },
         "layout": {
          "annotationdefaults": {
           "arrowcolor": "#2a3f5f",
           "arrowhead": 0,
           "arrowwidth": 1
          },
          "autotypenumbers": "strict",
          "coloraxis": {
           "colorbar": {
            "outlinewidth": 0,
            "ticks": ""
           }
          },
          "colorscale": {
           "diverging": [
            [
             0,
             "#8e0152"
            ],
            [
             0.1,
             "#c51b7d"
            ],
            [
             0.2,
             "#de77ae"
            ],
            [
             0.3,
             "#f1b6da"
            ],
            [
             0.4,
             "#fde0ef"
            ],
            [
             0.5,
             "#f7f7f7"
            ],
            [
             0.6,
             "#e6f5d0"
            ],
            [
             0.7,
             "#b8e186"
            ],
            [
             0.8,
             "#7fbc41"
            ],
            [
             0.9,
             "#4d9221"
            ],
            [
             1,
             "#276419"
            ]
           ],
           "sequential": [
            [
             0,
             "#0d0887"
            ],
            [
             0.1111111111111111,
             "#46039f"
            ],
            [
             0.2222222222222222,
             "#7201a8"
            ],
            [
             0.3333333333333333,
             "#9c179e"
            ],
            [
             0.4444444444444444,
             "#bd3786"
            ],
            [
             0.5555555555555556,
             "#d8576b"
            ],
            [
             0.6666666666666666,
             "#ed7953"
            ],
            [
             0.7777777777777778,
             "#fb9f3a"
            ],
            [
             0.8888888888888888,
             "#fdca26"
            ],
            [
             1,
             "#f0f921"
            ]
           ],
           "sequentialminus": [
            [
             0,
             "#0d0887"
            ],
            [
             0.1111111111111111,
             "#46039f"
            ],
            [
             0.2222222222222222,
             "#7201a8"
            ],
            [
             0.3333333333333333,
             "#9c179e"
            ],
            [
             0.4444444444444444,
             "#bd3786"
            ],
            [
             0.5555555555555556,
             "#d8576b"
            ],
            [
             0.6666666666666666,
             "#ed7953"
            ],
            [
             0.7777777777777778,
             "#fb9f3a"
            ],
            [
             0.8888888888888888,
             "#fdca26"
            ],
            [
             1,
             "#f0f921"
            ]
           ]
          },
          "colorway": [
           "#636efa",
           "#EF553B",
           "#00cc96",
           "#ab63fa",
           "#FFA15A",
           "#19d3f3",
           "#FF6692",
           "#B6E880",
           "#FF97FF",
           "#FECB52"
          ],
          "font": {
           "color": "#2a3f5f"
          },
          "geo": {
           "bgcolor": "white",
           "lakecolor": "white",
           "landcolor": "#E5ECF6",
           "showlakes": true,
           "showland": true,
           "subunitcolor": "white"
          },
          "hoverlabel": {
           "align": "left"
          },
          "hovermode": "closest",
          "mapbox": {
           "style": "light"
          },
          "paper_bgcolor": "white",
          "plot_bgcolor": "#E5ECF6",
          "polar": {
           "angularaxis": {
            "gridcolor": "white",
            "linecolor": "white",
            "ticks": ""
           },
           "bgcolor": "#E5ECF6",
           "radialaxis": {
            "gridcolor": "white",
            "linecolor": "white",
            "ticks": ""
           }
          },
          "scene": {
           "xaxis": {
            "backgroundcolor": "#E5ECF6",
            "gridcolor": "white",
            "gridwidth": 2,
            "linecolor": "white",
            "showbackground": true,
            "ticks": "",
            "zerolinecolor": "white"
           },
           "yaxis": {
            "backgroundcolor": "#E5ECF6",
            "gridcolor": "white",
            "gridwidth": 2,
            "linecolor": "white",
            "showbackground": true,
            "ticks": "",
            "zerolinecolor": "white"
           },
           "zaxis": {
            "backgroundcolor": "#E5ECF6",
            "gridcolor": "white",
            "gridwidth": 2,
            "linecolor": "white",
            "showbackground": true,
            "ticks": "",
            "zerolinecolor": "white"
           }
          },
          "shapedefaults": {
           "line": {
            "color": "#2a3f5f"
           }
          },
          "ternary": {
           "aaxis": {
            "gridcolor": "white",
            "linecolor": "white",
            "ticks": ""
           },
           "baxis": {
            "gridcolor": "white",
            "linecolor": "white",
            "ticks": ""
           },
           "bgcolor": "#E5ECF6",
           "caxis": {
            "gridcolor": "white",
            "linecolor": "white",
            "ticks": ""
           }
          },
          "title": {
           "x": 0.05
          },
          "xaxis": {
           "automargin": true,
           "gridcolor": "white",
           "linecolor": "white",
           "ticks": "",
           "title": {
            "standoff": 15
           },
           "zerolinecolor": "white",
           "zerolinewidth": 2
          },
          "yaxis": {
           "automargin": true,
           "gridcolor": "white",
           "linecolor": "white",
           "ticks": "",
           "title": {
            "standoff": 15
           },
           "zerolinecolor": "white",
           "zerolinewidth": 2
          }
         }
        },
        "xaxis": {
         "anchor": "y",
         "domain": [
          0,
          1
         ],
         "title": {
          "text": "População"
         }
        },
        "yaxis": {
         "anchor": "x",
         "domain": [
          0,
          1
         ],
         "title": {
          "text": "Continente"
         }
        }
       }
      }
     },
     "metadata": {},
     "output_type": "display_data"
    },
    {
     "data": {
      "application/vnd.plotly.v1+json": {
       "config": {
        "plotlyServerURL": "https://plot.ly"
       },
       "data": [
        {
         "hovertemplate": "<b>%{hovertext}</b><br><br>Continente=Europa<br>PIB=%{x}<br>Expectativa de Vida=%{y}<br>População=%{marker.size}<extra></extra>",
         "hovertext": [
          "Albania",
          "Austria",
          "Belarus",
          "Belgium",
          "Bosnia and Herzegovina",
          "Bulgaria",
          "Croatia",
          "Cyprus",
          "Czechia",
          "Denmark",
          "Estonia",
          "Finland",
          "France",
          "Germany",
          "Greece",
          "Hungary",
          "Iceland",
          "Ireland",
          "Italy",
          "Latvia",
          "Lithuania",
          "Luxembourg",
          "Malta",
          "Montenegro",
          "Netherlands",
          "North Macedonia",
          "Norway",
          "Poland",
          "Portugal",
          "Romania",
          "Russia",
          "Serbia",
          "Slovakia",
          "Slovenia",
          "Spain",
          "Sweden",
          "Switzerland",
          "Turkey",
          "Ukraine",
          "United Kingdom"
         ],
         "legendgroup": "Europa",
         "marker": {
          "color": "#636efa",
          "size": {
           "bdata": "AAAAAMoCRkEAAABgXfBgQQAAAMAi/2FBAAAAwKfqZUEAAAAAP4ZJQQAAAMD6m1pBAAAAANFpTkEAAAAADaIzQQAAAOC+IWRBAAAAwFYuVkEAAAAA5T40QQAAAMBWEFVBAAAAoJ1Xj0EAAABEDOyTQQAAAICucWRBAAAAQK2iYkEAAAAAFAQWQQAAAMDc0VJBAAAAwBqsjEEAAAAAmzU9QQAAAIAYU0VBAAAAAAztIkEAAAAARMMeQQAAAACyqiJBAAAAIJ65cEEAAAAAq/Q8QQAAAMBlZlRBAAAA4D46gkEAAABAZrpjQQAAAHAemXJBAAAAjtV3oUEAAACA4pJaQQAAAIDgylRBAAAAAGzKP0EAAACAa56GQQAAAEAam2NBAAAAwD5cYEEAAACc0VmUQQAAAFD4b4VBAAAAuCAAkEE=",
           "dtype": "f8"
          },
          "sizemode": "area",
          "sizeref": 395422.3205555556,
          "symbol": "circle"
         },
         "mode": "markers",
         "name": "Europa",
         "orientation": "v",
         "showlegend": true,
         "type": "scatter",
         "x": {
          "bdata": "AAAAWNHPIEIAAFjdXc5bQgAA+IVg10dCAABgviceXkIAAPCAmjQlQgAAUONuZUFCAABAfBABOUIAAKBhliAaQgAAnCNxWFdCAADgkL8mUkIAAGCEreUkQgAAkMJp70xCAADQRCNxhUIAAOCfYxuPQgAAQNY+lVBCAADI/TB7UEIAAKD5Ab0QQgAAQMxHKl1CAADcpOTxgUIAAODfMB0qQgAAoB0X3zRCAAAggj7xKUIAAACTj+oPQgAAwMPnjglCAAAG4aGma0IAACBhSZ4eQgAAOKukEFdCAACsmHqicUIAAJAdQ+1SQgAA+AFPb19CAADIHNRGjkIAAPCWPQs8QgAA+LwBdEFCAABAzBeAMEIAAEBjHXR7QgAAQFeZoV5CAADwNu3TYkIAAPqZpVuAQgAANJiZ1GBCAAAHRh3BhUI=",
          "dtype": "f8"
         },
         "xaxis": "x",
         "y": {
          "bdata": "rkfhehTSU0ASpb3BF3pUQOf7qfHSjVJAKe0NvjB1VEDl8h/Sb09TQE7RkVz+w1JA5WGh1jSvU0DFILByaFlUQHrHKTqSz1NAnRGlvcFbVECfzarP1apTQHL5D+m3d1RAiUFg5dCuVECIhVrTvGNUQF3+Q/rtT1RAqaROQBMdU0DEQq1p3plUQLivA+eMkFRAF9nO91PjVEADeAskKOJSQG+BBMWPDVNAxY8xdy2JVEDwp8ZLN81UQPs6cM6IQlNA9P3UeOmCVEA0ETY8vVJTQOlILv8hvVRAejarPld7U0CpE9BE2GxUQNxoAG+BIFNAJCh+jLl7UkCTGARWDi1TQFafq63Ya1NAkQ96NqtmVEDnjCjtDeJUQN6Th4Vaw1RAtRX7y+7xVEAFNBE2PHVTQMNkqmBUolJAZmZmZmZuVEA=",
          "dtype": "f8"
         },
         "yaxis": "y"
        },
        {
         "hovertemplate": "<b>%{hovertext}</b><br><br>Continente=África<br>PIB=%{x}<br>Expectativa de Vida=%{y}<br>População=%{marker.size}<extra></extra>",
         "hovertext": [
          "Algeria",
          "Benin",
          "Botswana",
          "Burkina Faso",
          "Burundi",
          "Cameroon",
          "Central African Republic",
          "Chad",
          "Cote d'Ivoire",
          "Democratic Republic of Congo",
          "Egypt",
          "Ethiopia",
          "Gabon",
          "Gambia",
          "Ghana",
          "Guinea",
          "Kenya",
          "Lesotho",
          "Liberia",
          "Malawi",
          "Mali",
          "Mauritania",
          "Mauritius",
          "Morocco",
          "Mozambique",
          "Namibia",
          "Nigeria",
          "Rwanda",
          "Senegal",
          "Sierra Leone",
          "South Africa",
          "Tanzania",
          "Togo",
          "Tunisia",
          "Uganda",
          "Zambia",
          "Zimbabwe"
         ],
         "legendgroup": "África",
         "marker": {
          "color": "#EF553B",
          "size": {
           "bdata": "AAAAsPqkhEEAAAAgPUZoQQAAAIDYykFBAAAAIKr9c0EAAABgDWBnQQAAAAATU3hBAAAAwNDcUkEAAADgFNNvQQAAAGAP43pBAAAA6A8plkEAAAAchqSZQQAAAKQMmJtBAAAAAB9NQUEAAACAh75CQQAAAOCTz31BAAAAoG3caEEAAABoWGqIQQAAAABD20BBAAAAAII9U0EAAABA9SRyQQAAAGCnF3RBAAAAgAALUUEAAAAAfaAzQQAAANhGRIFBAAAAgP1/fEEAAAAAwjhEQQAAAIj++KhBAAAAAFVeaEEAAADA0zBvQQAAAMDGfl1BAAAAQOlpjEEAAABIfzeMQQAAAIBbJGBBAAAAoGGmZkEAAACg+oCEQQAAABD7p3FBAAAAILogbUE=",
           "dtype": "f8"
          },
          "sizemode": "area",
          "sizeref": 395422.3205555556,
          "symbol": "circle"
         },
         "mode": "markers",
         "name": "África",
         "orientation": "v",
         "showlegend": true,
         "type": "scatter",
         "x": {
          "bdata": "AACMXieKXUIAALDCLdUhQgAAMD75riFCAABQAQgQJEIAAAB21vcAQgAAEErl/zVCAACAZmJL8UEAAGAgmPwXQgAAkJpPJj5CAACgZlilNEIAADqZGJ5xQgAAYBrrv1FCAAAgerZYH0IAAIDEThH1QQAA4APt/UJCAAAAORkzG0IAALCWH+5JQgAAgLr/VfVBAABA/mIk90EAAECiMyYUQgAAIOJ9ZCZCAABgfKW1E0IAAADy5bYbQgAAmIRu0lBCAABAoGdgIUIAAABFs7oVQgAATOAIJm1CAADgRHTOGkIAAGBofqUoQgAAAONDSgtCAAC4321dZUIAAKBkn/Y+QgAAAEBA0xBCAABAdqgyPkIAAECuf5A1QgAAQH0lcSpCAAAgCugCI0I=",
          "dtype": "f8"
         },
         "xaxis": "x",
         "y": {
          "bdata": "2PD0SlkeU0D8GHPXEjpOQD2bVZ+rXVBABaOSOgEFTkA+6Nms+ixPQDQRNjy9yk5AXkvIBz2DS0CMSuoENKFKQFTjpZvEqE1A7MA5I0ojTkB7FK5H4dZRQP32deCcdVBA2IFzRpSmUEAN4C2QoOBPQEHxY8xdL1BA+THmriXcTUApyxDHunhPQBKlvcEXFktA6Nms+lyNTkDysFBrmgdQQHctIR/01E1A1edqK/ZrUECzDHGsi8dSQFpkO99PkVJAMEymCkaVTkCamZmZmYlPQKMjufyHdEpAhxbZzvebUEAoDwu1piFRQA3gLZCgIE5AMzMzMzOLUEAlBoGVQ79QQHo2qz5Xc05AescpOpL/UkAtQxzr4n5PQKFns+pzZU9APQrXo3ClTkA=",
          "dtype": "f8"
         },
         "yaxis": "y"
        },
        {
         "hovertemplate": "<b>%{hovertext}</b><br><br>Continente=América do Sul<br>PIB=%{x}<br>Expectativa de Vida=%{y}<br>População=%{marker.size}<extra></extra>",
         "hovertext": [
          "Argentina",
          "Bolivia",
          "Brazil",
          "Chile",
          "Colombia",
          "Ecuador",
          "Paraguay",
          "Peru",
          "Uruguay"
         ],
         "legendgroup": "América do Sul",
         "marker": {
          "color": "#00cc96",
          "size": {
           "bdata": "AAAA4OxxhUEAAABA60JmQQAAAMYJu6hBAAAAMPNOckEAAACYSMyHQQAAABBniXBBAAAAAF3aWEEAAABQMfJ+QQAAAIAq60lB",
           "dtype": "f8"
          },
          "sizemode": "area",
          "sizeref": 395422.3205555556,
          "symbol": "circle"
         },
         "mode": "markers",
         "name": "América do Sul",
         "orientation": "v",
         "showlegend": true,
         "type": "scatter",
         "x": {
          "bdata": "AADuv1lybEIAADBAEQM3QgAAHp8JaYZCAAB0frGmWUIAABCSeZhkQgAAkHuIuUZCAAD4QAA1NEIAANjB/idXQgAAcKY/jzBC",
          "dtype": "f8"
         },
         "xaxis": "x",
         "y": {
          "bdata": "ke18PzVSU0Dn+6nx0vVQQGFUUieg1VJA1CtlGeIUVED5MeauJTBTQBDpt68DU1NAJCh+jLlnUkCSXP5D+glTQAaBlUOLYFNA",
          "dtype": "f8"
         },
         "yaxis": "y"
        },
        {
         "hovertemplate": "<b>%{hovertext}</b><br><br>Continente=Ásia<br>PIB=%{x}<br>Expectativa de Vida=%{y}<br>População=%{marker.size}<extra></extra>",
         "hovertext": [
          "Armenia",
          "Azerbaijan",
          "Bahrain",
          "Bangladesh",
          "China",
          "Georgia",
          "Hong Kong",
          "India",
          "Indonesia",
          "Iran",
          "Iraq",
          "Israel",
          "Japan",
          "Kazakhstan",
          "Kuwait",
          "Kyrgyzstan",
          "Laos",
          "Lebanon",
          "Malaysia",
          "Maldives",
          "Mongolia",
          "Myanmar",
          "Nepal",
          "Pakistan",
          "Palestine",
          "Philippines",
          "Saudi Arabia",
          "Singapore",
          "South Korea",
          "Sri Lanka",
          "Thailand",
          "United Arab Emirates",
          "Vietnam"
         ],
         "legendgroup": "Ásia",
         "marker": {
          "color": "#ab63fa",
          "size": {
           "bdata": "AAAAgNMnRkEAAADAwkhjQQAAAABrqzZBAAAASL+oo0EAAICYTDbVQQAAAIB490xBAAAAAF6OXEEAAMDnurLUQQAAAKPbPbBBAAAA/DXBlEEAAABgV6SDQQAAAEBHg2BBAAAAeB41nkEAAABA1VFyQQAAAIAW8lBBAAAAANXFWEEAAACAAJxbQQAAAADKGlZBAAAAwDTkf0EAAAAA5MQdQQAAAIC7qEhBAAAAcN4ZiUEAAAAgBxl7QQAAABp8g6tBAAAAgJPpUkEAAAA0+2qaQQAAAKCmD31BAAAAgK6gVUEAAAAYUa+IQQAAAIBTX3VBAAAAZF8NkUEAAADgB+NhQQAAAEgEK5dB",
           "dtype": "f8"
          },
          "sizemode": "area",
          "sizeref": 395422.3205555556,
          "symbol": "circle"
         },
         "mode": "markers",
         "name": "Ásia",
         "orientation": "v",
         "showlegend": true,
         "type": "scatter",
         "x": {
          "bdata": "AAAwo3JLJEIAAECA4YxCQgAAEP4u8jFCAADoNX8aZkIAANegmmyyQgAA8Hwyvi9CAAAgI1q5V0IAgKlYX66gQgAAxhna1IZCAABiYavzb0IAAPR+bEZbQgAA6Lx4H1NCAAAzZfhSkkIAAGBk9ZBeQgAAMORyZE5CAADgIuFUIkIAAMCiHFMpQgAAULhFizdCAAB4YSXuZ0IAAMCfgjIDQgAAANtM3yFCAAA4Xjc2UEIAACDIpy84QgAAVMH5rW9CAADgHSkiIUIAALBbj5VqQgAAULr513lCAAAQ4mHRW0IAAKJ/tHh/QgAAsCHqflBCAACg9oxXcUIAAFDAv8xiQgAA6MYjE2VC",
          "dtype": "f8"
         },
         "xaxis": "x",
         "y": {
          "bdata": "owG8BRLcUkBfmEwVjEZSQCntDb4wAVRAyJi7lpAzUkDLoUW2831TQOeMKO0NXlJAL90kBoFRVUCneccpOrpRQMWPMXctoVFA7Q2+MJkGU0CGWtO84+RRQJyiI7n8s1RAwaikTkAbVUC4HoXrUeRRQKRwPQrX61NA0LNZ9bnOUUCpE9BE2AhRQBdIUPwYz1NAhslUwajwUkCBlUOLbAdUQKqCUUmd9FFAnl4pyxCnUED5D+m3r2NRQEaU9gZfsFBAutqK/WXPUkDek4eFWvdRQDPEsS5uU1NAVFInoInwVEAu/yH99ulUQFRSJ6CJAFNAGJXUCWi+U0C8lpAPeu5TQBlz1xLyhVJA",
          "dtype": "f8"
         },
         "yaxis": "y"
        },
        {
         "hovertemplate": "<b>%{hovertext}</b><br><br>Continente=Oceania<br>PIB=%{x}<br>Expectativa de Vida=%{y}<br>População=%{marker.size}<extra></extra>",
         "hovertext": [
          "Australia",
          "New Zealand"
         ],
         "legendgroup": "Oceania",
         "marker": {
          "color": "#FFA15A",
          "size": {
           "bdata": "AAAAoF1NeEEAAAAAeQhTQQ==",
           "dtype": "f8"
          },
          "sizemode": "area",
          "sizeref": 395422.3205555556,
          "symbol": "circle"
         },
         "mode": "markers",
         "name": "Oceania",
         "orientation": "v",
         "showlegend": true,
         "type": "scatter",
         "x": {
          "bdata": "AAAEK9Lbc0IAAGDZ4B5HQg==",
          "dtype": "f8"
         },
         "xaxis": "x",
         "y": {
          "bdata": "16NwPQrHVEDHSzeJQaRUQA==",
          "dtype": "f8"
         },
         "yaxis": "y"
        },
        {
         "hovertemplate": "<b>%{hovertext}</b><br><br>Continente=América do Norte<br>PIB=%{x}<br>Expectativa de Vida=%{y}<br>População=%{marker.size}<extra></extra>",
         "hovertext": [
          "Canada",
          "Mexico",
          "United States"
         ],
         "legendgroup": "América do Norte",
         "marker": {
          "color": "#19d3f3",
          "size": {
           "bdata": "AAAAmCwEgkEAAACE9vudQQAAAHREIrRB",
           "dtype": "f8"
          },
          "sizemode": "area",
          "sizeref": 395422.3205555556,
          "symbol": "circle"
         },
         "mode": "markers",
         "name": "América do Norte",
         "orientation": "v",
         "showlegend": true,
         "type": "scatter",
         "x": {
          "bdata": "AAASODEoe0IAAMKiUmSBQgBAawZYu7JC",
          "dtype": "f8"
         },
         "xaxis": "x",
         "y": {
          "bdata": "SL99HTiXVEBiodY074xSQEa28/3UyFNA",
          "dtype": "f8"
         },
         "yaxis": "y"
        },
        {
         "hovertemplate": "<b>%{hovertext}</b><br><br>Continente=América Central<br>PIB=%{x}<br>Expectativa de Vida=%{y}<br>População=%{marker.size}<extra></extra>",
         "hovertext": [
          "Costa Rica",
          "Dominican Republic",
          "El Salvador",
          "Guatemala",
          "Haiti",
          "Honduras",
          "Nicaragua",
          "Panama"
         ],
         "legendgroup": "América Central",
         "marker": {
          "color": "#FF6692",
          "size": {
           "bdata": "AAAAwF8SU0EAAABgW8dkQQAAAAB7vFdBAAAAoLtPcEEAAACAcS5lQQAAAKBK92JBAAAAALO7WEEAAADAcidQQQ==",
           "dtype": "f8"
          },
          "sizemode": "area",
          "sizeref": 395422.3205555556,
          "symbol": "circle"
         },
         "mode": "markers",
         "name": "América Central",
         "orientation": "v",
         "showlegend": true,
         "type": "scatter",
         "x": {
          "bdata": "AADwHIzENUIAANASYWlGQgAAoDQJZChCAABgL0vOP0IAAIAADk0QQgAAwGV5oihCAABg/bqgHkIAAGjB04o9Qg==",
          "dtype": "f8"
         },
         "xaxis": "x",
         "y": {
          "bdata": "ejarPlfbU0Cb5h2n6GRSQOviNhrAI1JAFR3J5T9IUkDxY8xdSxBQQFwgQfFjOFJADwu1pnmDUkC5/If023NTQA==",
          "dtype": "f8"
         },
         "yaxis": "y"
        }
       ],
       "layout": {
        "height": 500,
        "legend": {
         "itemsizing": "constant",
         "title": {
          "text": "Continente"
         },
         "tracegroupgap": 0
        },
        "margin": {
         "t": 60
        },
        "template": {
         "data": {
          "bar": [
           {
            "error_x": {
             "color": "#2a3f5f"
            },
            "error_y": {
             "color": "#2a3f5f"
            },
            "marker": {
             "line": {
              "color": "#E5ECF6",
              "width": 0.5
             },
             "pattern": {
              "fillmode": "overlay",
              "size": 10,
              "solidity": 0.2
             }
            },
            "type": "bar"
           }
          ],
          "barpolar": [
           {
            "marker": {
             "line": {
              "color": "#E5ECF6",
              "width": 0.5
             },
             "pattern": {
              "fillmode": "overlay",
              "size": 10,
              "solidity": 0.2
             }
            },
            "type": "barpolar"
           }
          ],
          "carpet": [
           {
            "aaxis": {
             "endlinecolor": "#2a3f5f",
             "gridcolor": "white",
             "linecolor": "white",
             "minorgridcolor": "white",
             "startlinecolor": "#2a3f5f"
            },
            "baxis": {
             "endlinecolor": "#2a3f5f",
             "gridcolor": "white",
             "linecolor": "white",
             "minorgridcolor": "white",
             "startlinecolor": "#2a3f5f"
            },
            "type": "carpet"
           }
          ],
          "choropleth": [
           {
            "colorbar": {
             "outlinewidth": 0,
             "ticks": ""
            },
            "type": "choropleth"
           }
          ],
          "contour": [
           {
            "colorbar": {
             "outlinewidth": 0,
             "ticks": ""
            },
            "colorscale": [
             [
              0,
              "#0d0887"
             ],
             [
              0.1111111111111111,
              "#46039f"
             ],
             [
              0.2222222222222222,
              "#7201a8"
             ],
             [
              0.3333333333333333,
              "#9c179e"
             ],
             [
              0.4444444444444444,
              "#bd3786"
             ],
             [
              0.5555555555555556,
              "#d8576b"
             ],
             [
              0.6666666666666666,
              "#ed7953"
             ],
             [
              0.7777777777777778,
              "#fb9f3a"
             ],
             [
              0.8888888888888888,
              "#fdca26"
             ],
             [
              1,
              "#f0f921"
             ]
            ],
            "type": "contour"
           }
          ],
          "contourcarpet": [
           {
            "colorbar": {
             "outlinewidth": 0,
             "ticks": ""
            },
            "type": "contourcarpet"
           }
          ],
          "heatmap": [
           {
            "colorbar": {
             "outlinewidth": 0,
             "ticks": ""
            },
            "colorscale": [
             [
              0,
              "#0d0887"
             ],
             [
              0.1111111111111111,
              "#46039f"
             ],
             [
              0.2222222222222222,
              "#7201a8"
             ],
             [
              0.3333333333333333,
              "#9c179e"
             ],
             [
              0.4444444444444444,
              "#bd3786"
             ],
             [
              0.5555555555555556,
              "#d8576b"
             ],
             [
              0.6666666666666666,
              "#ed7953"
             ],
             [
              0.7777777777777778,
              "#fb9f3a"
             ],
             [
              0.8888888888888888,
              "#fdca26"
             ],
             [
              1,
              "#f0f921"
             ]
            ],
            "type": "heatmap"
           }
          ],
          "histogram": [
           {
            "marker": {
             "pattern": {
              "fillmode": "overlay",
              "size": 10,
              "solidity": 0.2
             }
            },
            "type": "histogram"
           }
          ],
          "histogram2d": [
           {
            "colorbar": {
             "outlinewidth": 0,
             "ticks": ""
            },
            "colorscale": [
             [
              0,
              "#0d0887"
             ],
             [
              0.1111111111111111,
              "#46039f"
             ],
             [
              0.2222222222222222,
              "#7201a8"
             ],
             [
              0.3333333333333333,
              "#9c179e"
             ],
             [
              0.4444444444444444,
              "#bd3786"
             ],
             [
              0.5555555555555556,
              "#d8576b"
             ],
             [
              0.6666666666666666,
              "#ed7953"
             ],
             [
              0.7777777777777778,
              "#fb9f3a"
             ],
             [
              0.8888888888888888,
              "#fdca26"
             ],
             [
              1,
              "#f0f921"
             ]
            ],
            "type": "histogram2d"
           }
          ],
          "histogram2dcontour": [
           {
            "colorbar": {
             "outlinewidth": 0,
             "ticks": ""
            },
            "colorscale": [
             [
              0,
              "#0d0887"
             ],
             [
              0.1111111111111111,
              "#46039f"
             ],
             [
              0.2222222222222222,
              "#7201a8"
             ],
             [
              0.3333333333333333,
              "#9c179e"
             ],
             [
              0.4444444444444444,
              "#bd3786"
             ],
             [
              0.5555555555555556,
              "#d8576b"
             ],
             [
              0.6666666666666666,
              "#ed7953"
             ],
             [
              0.7777777777777778,
              "#fb9f3a"
             ],
             [
              0.8888888888888888,
              "#fdca26"
             ],
             [
              1,
              "#f0f921"
             ]
            ],
            "type": "histogram2dcontour"
           }
          ],
          "mesh3d": [
           {
            "colorbar": {
             "outlinewidth": 0,
             "ticks": ""
            },
            "type": "mesh3d"
           }
          ],
          "parcoords": [
           {
            "line": {
             "colorbar": {
              "outlinewidth": 0,
              "ticks": ""
             }
            },
            "type": "parcoords"
           }
          ],
          "pie": [
           {
            "automargin": true,
            "type": "pie"
           }
          ],
          "scatter": [
           {
            "fillpattern": {
             "fillmode": "overlay",
             "size": 10,
             "solidity": 0.2
            },
            "type": "scatter"
           }
          ],
          "scatter3d": [
           {
            "line": {
             "colorbar": {
              "outlinewidth": 0,
              "ticks": ""
             }
            },
            "marker": {
             "colorbar": {
              "outlinewidth": 0,
              "ticks": ""
             }
            },
            "type": "scatter3d"
           }
          ],
          "scattercarpet": [
           {
            "marker": {
             "colorbar": {
              "outlinewidth": 0,
              "ticks": ""
             }
            },
            "type": "scattercarpet"
           }
          ],
          "scattergeo": [
           {
            "marker": {
             "colorbar": {
              "outlinewidth": 0,
              "ticks": ""
             }
            },
            "type": "scattergeo"
           }
          ],
          "scattergl": [
           {
            "marker": {
             "colorbar": {
              "outlinewidth": 0,
              "ticks": ""
             }
            },
            "type": "scattergl"
           }
          ],
          "scattermap": [
           {
            "marker": {
             "colorbar": {
              "outlinewidth": 0,
              "ticks": ""
             }
            },
            "type": "scattermap"
           }
          ],
          "scattermapbox": [
           {
            "marker": {
             "colorbar": {
              "outlinewidth": 0,
              "ticks": ""
             }
            },
            "type": "scattermapbox"
           }
          ],
          "scatterpolar": [
           {
            "marker": {
             "colorbar": {
              "outlinewidth": 0,
              "ticks": ""
             }
            },
            "type": "scatterpolar"
           }
          ],
          "scatterpolargl": [
           {
            "marker": {
             "colorbar": {
              "outlinewidth": 0,
              "ticks": ""
             }
            },
            "type": "scatterpolargl"
           }
          ],
          "scatterternary": [
           {
            "marker": {
             "colorbar": {
              "outlinewidth": 0,
              "ticks": ""
             }
            },
            "type": "scatterternary"
           }
          ],
          "surface": [
           {
            "colorbar": {
             "outlinewidth": 0,
             "ticks": ""
            },
            "colorscale": [
             [
              0,
              "#0d0887"
             ],
             [
              0.1111111111111111,
              "#46039f"
             ],
             [
              0.2222222222222222,
              "#7201a8"
             ],
             [
              0.3333333333333333,
              "#9c179e"
             ],
             [
              0.4444444444444444,
              "#bd3786"
             ],
             [
              0.5555555555555556,
              "#d8576b"
             ],
             [
              0.6666666666666666,
              "#ed7953"
             ],
             [
              0.7777777777777778,
              "#fb9f3a"
             ],
             [
              0.8888888888888888,
              "#fdca26"
             ],
             [
              1,
              "#f0f921"
             ]
            ],
            "type": "surface"
           }
          ],
          "table": [
           {
            "cells": {
             "fill": {
              "color": "#EBF0F8"
             },
             "line": {
              "color": "white"
             }
            },
            "header": {
             "fill": {
              "color": "#C8D4E3"
             },
             "line": {
              "color": "white"
             }
            },
            "type": "table"
           }
          ]
         },
         "layout": {
          "annotationdefaults": {
           "arrowcolor": "#2a3f5f",
           "arrowhead": 0,
           "arrowwidth": 1
          },
          "autotypenumbers": "strict",
          "coloraxis": {
           "colorbar": {
            "outlinewidth": 0,
            "ticks": ""
           }
          },
          "colorscale": {
           "diverging": [
            [
             0,
             "#8e0152"
            ],
            [
             0.1,
             "#c51b7d"
            ],
            [
             0.2,
             "#de77ae"
            ],
            [
             0.3,
             "#f1b6da"
            ],
            [
             0.4,
             "#fde0ef"
            ],
            [
             0.5,
             "#f7f7f7"
            ],
            [
             0.6,
             "#e6f5d0"
            ],
            [
             0.7,
             "#b8e186"
            ],
            [
             0.8,
             "#7fbc41"
            ],
            [
             0.9,
             "#4d9221"
            ],
            [
             1,
             "#276419"
            ]
           ],
           "sequential": [
            [
             0,
             "#0d0887"
            ],
            [
             0.1111111111111111,
             "#46039f"
            ],
            [
             0.2222222222222222,
             "#7201a8"
            ],
            [
             0.3333333333333333,
             "#9c179e"
            ],
            [
             0.4444444444444444,
             "#bd3786"
            ],
            [
             0.5555555555555556,
             "#d8576b"
            ],
            [
             0.6666666666666666,
             "#ed7953"
            ],
            [
             0.7777777777777778,
             "#fb9f3a"
            ],
            [
             0.8888888888888888,
             "#fdca26"
            ],
            [
             1,
             "#f0f921"
            ]
           ],
           "sequentialminus": [
            [
             0,
             "#0d0887"
            ],
            [
             0.1111111111111111,
             "#46039f"
            ],
            [
             0.2222222222222222,
             "#7201a8"
            ],
            [
             0.3333333333333333,
             "#9c179e"
            ],
            [
             0.4444444444444444,
             "#bd3786"
            ],
            [
             0.5555555555555556,
             "#d8576b"
            ],
            [
             0.6666666666666666,
             "#ed7953"
            ],
            [
             0.7777777777777778,
             "#fb9f3a"
            ],
            [
             0.8888888888888888,
             "#fdca26"
            ],
            [
             1,
             "#f0f921"
            ]
           ]
          },
          "colorway": [
           "#636efa",
           "#EF553B",
           "#00cc96",
           "#ab63fa",
           "#FFA15A",
           "#19d3f3",
           "#FF6692",
           "#B6E880",
           "#FF97FF",
           "#FECB52"
          ],
          "font": {
           "color": "#2a3f5f"
          },
          "geo": {
           "bgcolor": "white",
           "lakecolor": "white",
           "landcolor": "#E5ECF6",
           "showlakes": true,
           "showland": true,
           "subunitcolor": "white"
          },
          "hoverlabel": {
           "align": "left"
          },
          "hovermode": "closest",
          "mapbox": {
           "style": "light"
          },
          "paper_bgcolor": "white",
          "plot_bgcolor": "#E5ECF6",
          "polar": {
           "angularaxis": {
            "gridcolor": "white",
            "linecolor": "white",
            "ticks": ""
           },
           "bgcolor": "#E5ECF6",
           "radialaxis": {
            "gridcolor": "white",
            "linecolor": "white",
            "ticks": ""
           }
          },
          "scene": {
           "xaxis": {
            "backgroundcolor": "#E5ECF6",
            "gridcolor": "white",
            "gridwidth": 2,
            "linecolor": "white",
            "showbackground": true,
            "ticks": "",
            "zerolinecolor": "white"
           },
           "yaxis": {
            "backgroundcolor": "#E5ECF6",
            "gridcolor": "white",
            "gridwidth": 2,
            "linecolor": "white",
            "showbackground": true,
            "ticks": "",
            "zerolinecolor": "white"
           },
           "zaxis": {
            "backgroundcolor": "#E5ECF6",
            "gridcolor": "white",
            "gridwidth": 2,
            "linecolor": "white",
            "showbackground": true,
            "ticks": "",
            "zerolinecolor": "white"
           }
          },
          "shapedefaults": {
           "line": {
            "color": "#2a3f5f"
           }
          },
          "ternary": {
           "aaxis": {
            "gridcolor": "white",
            "linecolor": "white",
            "ticks": ""
           },
           "baxis": {
            "gridcolor": "white",
            "linecolor": "white",
            "ticks": ""
           },
           "bgcolor": "#E5ECF6",
           "caxis": {
            "gridcolor": "white",
            "linecolor": "white",
            "ticks": ""
           }
          },
          "title": {
           "x": 0.05
          },
          "xaxis": {
           "automargin": true,
           "gridcolor": "white",
           "linecolor": "white",
           "ticks": "",
           "title": {
            "standoff": 15
           },
           "zerolinecolor": "white",
           "zerolinewidth": 2
          },
          "yaxis": {
           "automargin": true,
           "gridcolor": "white",
           "linecolor": "white",
           "ticks": "",
           "title": {
            "standoff": 15
           },
           "zerolinecolor": "white",
           "zerolinewidth": 2
          }
         }
        },
        "xaxis": {
         "anchor": "y",
         "domain": [
          0,
          1
         ],
         "title": {
          "text": "PIB"
         },
         "type": "log"
        },
        "yaxis": {
         "anchor": "x",
         "domain": [
          0,
          1
         ],
         "title": {
          "text": "Expectativa de Vida"
         }
        }
       }
      }
     },
     "metadata": {},
     "output_type": "display_data"
    }
   ],
   "source": [
    "import pandas as pd\n",
    "import plotly.express as px\n",
    "\n",
    "dadosMundo = pd.read_excel(\"TabelaTeste2.xlsx\")\n",
    "\n",
    "\n",
    "#print(coffeeSales.head())\n",
    "#print(coffeeSales.tail())\n",
    "\n",
    "#dadosMundo = dadosMundo.drop(columns=\"Unnamed: 8\") # Retira a coluna inutil\n",
    "# dadosMundo = dadosMundo.drop(columns=\"Unnamed: 9\")\n",
    "dadosMundo = dadosMundo.drop(columns=\"Na curva normal, o 3,00 de felicidade representa -2,32 na normal padrão\")\n",
    "dadosMundo = dadosMundo.drop(index=132) #Retira a linha inutil\n",
    "\n",
    "#print(dadosMundo.info()) #analise das linhas vazias\n",
    "\n",
    "dadosMundo.dropna() # exclui os valorez vazios.\n",
    "\n",
    "#print(dadosMundo.info())\n",
    "\n",
    "# Análise com gráficos\n",
    "\n",
    "#print(dadosMundo[\"Analise Indice\"].value_counts(normalize=True)) #O normalize faz com que mostre em porcentagem %\n",
    "\n",
    "#display(dadosMundo[\"Analise Indice\"].value_counts(normalize=True).map(\"{:.1%}\".format)) # Mostra em porcentagem formatada\n",
    "\n",
    "#criar o grafico\n",
    "# grafico = px.histogram(dadosMundo, x=\"Analise Indice\") \n",
    "\n",
    "#dadosMundo.loc[dadosMundo[\"PIB\"] < 25755519000, \"País\"] = \"Other Countries\"\n",
    "\n",
    "#grafico = px.pie(dadosMundo, values=\"PIB\", names=\"País\", title=\"Análise do PIB Global\")\n",
    "#exibi-lo\n",
    "#grafico.show()\n",
    "\n",
    "#grafico = px.choropleth(dadosMundo, color=\"PIB\", locations=\"iso_alpha\", hover_name=\"País\", height=500)\n",
    "grafico = px.strip(dadosMundo, x=\"PIB\", y=\"População\", color=\"Continente\", hover_name=\"País\")\n",
    "grafico.show()\n",
    "\n",
    "grafico = px.bar(dadosMundo, x= \"População\", y= \"Continente\", hover_name=\"País\", color=\"Expectativa de Vida\")\n",
    "grafico.show()\n",
    "\n",
    "grafico = px.scatter(dadosMundo, y=\"Expectativa de Vida\", x=\"PIB\", hover_name=\"País\", color=\"Continente\", size=\"População\", size_max=60, log_x=True, height=500 )\n",
    "grafico.show()\n",
    "\n"
   ]
  }
 ],
 "metadata": {
  "kernelspec": {
   "display_name": "Python 3",
   "language": "python",
   "name": "python3"
  },
  "language_info": {
   "codemirror_mode": {
    "name": "ipython",
    "version": 3
   },
   "file_extension": ".py",
   "mimetype": "text/x-python",
   "name": "python",
   "nbconvert_exporter": "python",
   "pygments_lexer": "ipython3",
   "version": "3.9.1"
  }
 },
 "nbformat": 4,
 "nbformat_minor": 5
}
