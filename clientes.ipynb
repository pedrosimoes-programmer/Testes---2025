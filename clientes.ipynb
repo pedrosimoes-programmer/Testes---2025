{
 "cells": [
  {
   "cell_type": "code",
   "execution_count": 19,
   "id": "fd5afdd3",
   "metadata": {},
   "outputs": [
    {
     "name": "stdout",
     "output_type": "stream",
     "text": [
      "<class 'pandas.core.frame.DataFrame'>\n",
      "RangeIndex: 1000 entries, 0 to 999\n",
      "Data columns (total 4 columns):\n",
      " #   Column              Non-Null Count  Dtype  \n",
      "---  ------              --------------  -----  \n",
      " 0   ID                  1000 non-null   int64  \n",
      " 1   Idade               1000 non-null   int64  \n",
      " 2   Profissão           1000 non-null   int64  \n",
      " 3   Salário Anual (R$)  1000 non-null   float64\n",
      "dtypes: float64(1), int64(3)\n",
      "memory usage: 31.4 KB\n"
     ]
    },
    {
     "data": {
      "text/plain": [
       "None"
      ]
     },
     "metadata": {},
     "output_type": "display_data"
    }
   ],
   "source": [
    "import pandas as pd\n",
    "import plotly.express as px\n",
    "from sklearn.preprocessing import LabelEncoder\n",
    "\n",
    "clientes = pd.read_csv(\"clientes.csv\")\n",
    "\n",
    "codificador = LabelEncoder()\n",
    "\n",
    "clientes[\"Profissão\"] = codificador.fit_transform(clientes[\"Profissão\"])\n",
    "\n",
    "display(clientes.info())\n"
   ]
  }
 ],
 "metadata": {
  "kernelspec": {
   "display_name": "Python 3",
   "language": "python",
   "name": "python3"
  },
  "language_info": {
   "codemirror_mode": {
    "name": "ipython",
    "version": 3
   },
   "file_extension": ".py",
   "mimetype": "text/x-python",
   "name": "python",
   "nbconvert_exporter": "python",
   "pygments_lexer": "ipython3",
   "version": "3.9.1"
  }
 },
 "nbformat": 4,
 "nbformat_minor": 5
}
